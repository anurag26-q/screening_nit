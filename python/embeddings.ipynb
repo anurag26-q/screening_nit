{
 "cells": [
  {
   "cell_type": "code",
   "execution_count": null,
   "id": "6fd87d81",
   "metadata": {},
   "outputs": [],
   "source": []
  },
  {
   "cell_type": "code",
   "execution_count": 10,
   "id": "16e7d21d",
   "metadata": {},
   "outputs": [],
   "source": [
    "import os\n",
    "import nltk\n",
    "\n",
    "# nltk.download()\n"
   ]
  },
  {
   "cell_type": "markdown",
   "id": "b5af76c1",
   "metadata": {},
   "source": [
    "# Embedding Algos\n",
    "\n",
    "1. OneHotEncodding\n",
    "2. LabelEncodding\n",
    "3. Bag of Words\n",
    "4. TF-IDF\n",
    "5. Word2Vec"
   ]
  },
  {
   "cell_type": "code",
   "execution_count": 11,
   "id": "f2722d33",
   "metadata": {},
   "outputs": [],
   "source": [
    "text='''\n",
    "The Battle of Longewala: A Stand in the Desert\n",
    "\n",
    "The Thar Desert stretched endlessly under the cold December sky, its sands whispering secrets of time. On the night of December 4, 1971, at the remote Indian border post of Longewala in Rajasthan, Major Kuldip Singh Chandpuri stood watch. His company, 120 soldiers of the 23rd Battalion, Punjab Regiment, manned a small outpost surrounded by a single strand of wire—originally strung by the Border Security Force (BSF) to keep camels from wandering. This wire, frail as it seemed, would soon play a role in one of the most extraordinary battles of the Indo-Pakistani War of 1971.\n",
    "\n",
    "The war had erupted the previous day, December 3, sparked by Pakistan’s preemptive air strikes on Indian airfields. The conflict’s heart lay in East Pakistan, where Bengali nationalists fought for independence, forming Bangladesh. India, burdened by millions of refugees fleeing Pakistani atrocities, launched a campaign to liberate the east. The western front, including Longewala, was meant to be a holding operation—a defensive line to prevent Pakistan from seizing Indian territory to use as a bargaining chip. But Pakistan had other plans.\n",
    "\n",
    "Major Chandpuri, a 31-year-old officer with a steely resolve, knew Longewala’s strategic value. The post sat along a lone road to Jaisalmer, a path to deeper Indian territory. Pakistan’s 51st Infantry Brigade, backed by the 22nd Armoured Regiment—some 2,000 to 7,000 troops and 30 to 100 tanks—aimed to overrun Longewala, capture Ramgarh, and threaten Jaisalmer’s airfield. Their commanders, confident in their numbers, assumed the post was lightly defended, unaware that the BSF had handed it to Chandpuri’s company.\n",
    "\n",
    "As dusk fell, Second Lieutenant Dharam Vir Bhakhri, a 26-year-old officer, led a patrol near the border pillar, 15 kilometers from the post. The desert was silent until a distant hum broke the stillness. Peering through his binoculars, Dharam Vir’s heart raced. A massive column of Pakistani tanks—Chinese Type 59s and Shermans—rumbled forward, followed by thousands of infantry. He radioed Chandpuri: “Enemy advancing. Tanks and troops, thousands strong.”\n",
    "\n",
    "Chandpuri’s mind raced. His company had two medium machine guns, two 81mm mortars, four rocket launchers, and small arms—no match for armored columns. No minefields or barbed wire fortified the post, only that deceptive strand of wire. Retreat was an option, but fleeing on foot through the desert meant abandoning the post and risking encirclement. Chandpuri gathered his men. “We hold until reinforced,” he declared, his voice steady. “This is our post, our duty.”\n",
    "\n",
    "The soldiers, mostly Sikhs from Punjab, nodded. Chandpuri, drawing on their shared heritage, spoke of Guru Gobind Singh’s courage against overwhelming odds. “I won’t leave,” he said. “Anyone who wishes may go.” None moved. They trusted their major, a man who led from the front, moving bunker to bunker to bolster morale.\n",
    "\n",
    "At midnight, the Pakistani assault began. Tanks roared, their tracks churning the sand, but the single wire fooled the infantry into believing a minefield lay ahead. Hesitation crept in. Pakistani commanders, lacking air cover and engineer reconnaissance, had miscalculated. Their tanks, reliant on external fuel tanks, were vulnerable, and the unfamiliar terrain bogged them down. Chandpuri’s men opened fire, their machine guns and mortars spitting defiance. The wire, mistaken for a minefield, stalled the infantry, who lost the cover of darkness.\n",
    "\n",
    "Dharam Vir, back at the post, coordinated fire. “Reference Longewala well, gole barsa!” Chandpuri shouted in Punjabi, directing artillery from Sadhewala. Captain Santosh Datta, an artillery officer, arrived at dawn, refining the barrage. The Indian fire was precise, but the tanks kept coming. Chandpuri, wounded twice, refused to retreat, rallying his men with a bayonet charge that sowed panic among the Pakistanis.\n",
    "\n",
    "As dawn broke on December 5, the desert sky roared with salvation. Six Hawker Hunter jets from Jaisalmer’s 122 Squadron, led by Wing Commander M.S. Bawa, screamed overhead. The Pakistanis, exposed without air cover, were sitting ducks. The Hunters, armed with T-10 rockets and 30mm Aden guns, unleashed hell. Tanks erupted in flames, their external fuel tanks igniting. By noon, 22 tanks lay destroyed by air strikes, 12 by ground fire, and two were captured—abandoned by fleeing crews. Over 100 vehicles littered the desert, and 200 Pakistani soldiers were dead.\n",
    "\n",
    "The Pakistani offensive crumbled. Indian reinforcements—tanks from the 20th Lancers and the 17th Rajputana Rifles—arrived, led by Colonel Bawa Guruvachan Singh. A counteroffensive mopped up stragglers, ending the six-hour battle. Longewala stood unbroken.\n",
    "\n",
    "The victory was staggering. Chandpuri’s 120 men, with IAF support, had repelled a force 20 times their size. Pakistan’s plan to seize Indian territory collapsed, leaving them no leverage in negotiations. The eastern campaign continued, culminating in Dhaka’s fall on December 16, birthing Bangladesh.\n",
    "\n",
    "Chandpuri earned the Maha Vir Chakra, India’s second-highest gallantry award. His citation praised his “dynamic leadership” and “exceptional courage.” Dharam Vir received a Mention in Dispatches, though his family later felt he deserved more. The IAF’s role, emphasized in books like *The Epic Battle of Longewala* by Air Marshal Bharat Kumar, was pivotal, with Hunters destroying over 40 tanks. Yet, some, like Major General Atma Singh, argued the IAF’s air observation posts deserved greater credit for guiding strikes.\n",
    "\n",
    "The battle inspired J.P. Dutta’s 1997 film *Border*, with Sunny Deol as Chandpuri and Akshaye Khanna as a fictionalized Dharam Vir, who was depicted as martyred. In reality, Dharam Vir survived, retiring as a colonel. The film, while romanticized, immortalized Longewala, though it sparked debate over whether the army or IAF deserved more credit. Chandpuri, ever humble, sued for one rupee in 2008 to defend his company’s honor against claims they vacated the post.\n",
    "\n",
    "Longewala became India’s “Battle of Thermopylae,” a stand against overwhelming odds, celebrated by British media and visited by Field Marshal R.M. Carver. The Longewala War Memorial, with its museum and captured tanks, stands as a testament to the 120 soldiers and IAF pilots who turned the desert into a graveyard for Pakistan’s ambitions.\n",
    "\n",
    "For Chandpuri, the battle was duty fulfilled. “I was given a task in writing,” he told Carver. “I executed it.” The small temple at the post, maintained by his men despite shelling, symbolized their unity. “It has miraculous powers,” Chandpuri later said, visiting it years after retiring as a brigadier.\n",
    "\n",
    "The sands of Longewala still whisper of that night—when courage, strategy, and airpower wrote a legend in the desert.\n",
    "\n",
    "[Word count: ~2500, approximately 10 pages double-spaced]\n",
    "'''"
   ]
  },
  {
   "cell_type": "code",
   "execution_count": 12,
   "id": "e9f9db01",
   "metadata": {},
   "outputs": [],
   "source": [
    "import re\n",
    "from nltk.corpus import stopwords\n",
    "from nltk.tokenize import word_tokenize\n",
    "from nltk.stem import PorterStemmer\n",
    "from nltk.stem import WordNetLemmatizer\n",
    "\n",
    "\n",
    "\n",
    "ps=PorterStemmer()\n",
    "lemmatizer=WordNetLemmatizer()\n",
    "sentence=nltk.sent_tokenize(text)\n",
    "# stop_words=stopwords.words('english')\n",
    "\n",
    "coupus=[]\n",
    "\n",
    "\n",
    "for i in range(len(sentence)):\n",
    "    review=re.sub('[^a-zA-Z]',' ',sentence[i])\n",
    "    review=review.lower()\n",
    "    review=review.split()\n",
    "    review=[ps.stem(word) for word in review if not word in set(stopwords.words('english'))]\n",
    "    review=[lemmatizer.lemmatize(word) for word in review if not word in set(stopwords.words('english'))]\n",
    "    review=' '.join(review)\n",
    "    coupus.append(review)\n",
    "\n"
   ]
  },
  {
   "cell_type": "code",
   "execution_count": 13,
   "id": "e223ee39",
   "metadata": {},
   "outputs": [
    {
     "data": {
      "text/plain": [
       "['battl longewala stand desert thar desert stretch endlessli cold decemb sky sand whisper secret time',\n",
       " 'night decemb remot indian border post longewala rajasthan major kuldip singh chandpuri stood watch',\n",
       " 'compani soldier rd battalion punjab regiment man small outpost surround singl strand wire origin strung border secur forc bsf keep camel wander',\n",
       " 'wire frail seem would soon play role one extraordinari battl indo pakistani war',\n",
       " 'war erupt previou day decemb spark pakistan preemptiv air strike indian airfield',\n",
       " 'conflict heart lay east pakistan bengali nationalist fought independ form bangladesh',\n",
       " 'india burden million refuge flee pakistani atroc launch campaign liber east',\n",
       " 'western front includ longewala meant hold oper defens line prevent pakistan seiz indian territori use bargain chip',\n",
       " 'pakistan plan',\n",
       " 'major chandpuri year old offic steeli resolv knew longewala strateg valu',\n",
       " 'post sat along lone road jaisalm path deeper indian territori',\n",
       " 'pakistan st infantri brigad back nd armour regiment troop tank aim overrun longewala captur ramgarh threaten jaisalm airfield',\n",
       " 'command confid number assum post lightli defend unawar bsf hand chandpuri compani',\n",
       " 'dusk fell second lieuten dharam vir bhakhri year old offic led patrol near border pillar kilomet post',\n",
       " 'desert silent distant hum broke still',\n",
       " 'peer binocular dharam vir heart race',\n",
       " 'massiv column pakistani tank chine type sherman rumbl forward follow thousand infantri',\n",
       " 'radio chandpuri enemi advanc',\n",
       " 'tank troop thousand strong chandpuri mind race',\n",
       " 'compani two medium machin gun two mm mortar four rocket launcher small arm match armor column',\n",
       " 'minefield barb wire fortifi post decept strand wire',\n",
       " 'retreat option flee foot desert meant abandon post risk encircl',\n",
       " 'chandpuri gather men',\n",
       " 'hold reinforc declar voic steadi',\n",
       " 'post duti soldier mostli sikh punjab nod',\n",
       " 'chandpuri draw share heritag spoke guru gobind singh courag overwhelm odd',\n",
       " 'leav said',\n",
       " 'anyon wish may go none move',\n",
       " 'trust major man led front move bunker bunker bolster moral',\n",
       " 'midnight pakistani assault began',\n",
       " 'tank roar track churn sand singl wire fool infantri believ minefield lay ahead',\n",
       " 'hesit crept',\n",
       " 'pakistani command lack air cover engin reconnaiss miscalcul',\n",
       " 'tank reliant extern fuel tank vulner unfamiliar terrain bog',\n",
       " 'chandpuri men open fire machin gun mortar spit defianc',\n",
       " 'wire mistaken minefield stall infantri lost cover dark',\n",
       " 'dharam vir back post coordin fire',\n",
       " 'refer longewala well gole barsa chandpuri shout punjabi direct artilleri sadhewala',\n",
       " 'captain santosh datta artilleri offic arriv dawn refin barrag',\n",
       " 'indian fire precis tank kept come',\n",
       " 'chandpuri wound twice refus retreat ralli men bayonet charg sow panic among pakistani',\n",
       " 'dawn broke decemb desert sky roar salvat',\n",
       " 'six hawker hunter jet jaisalm squadron led wing command',\n",
       " 'bawa scream overhead',\n",
       " 'pakistani expo without air cover sit duck',\n",
       " 'hunter arm rocket mm aden gun unleash hell',\n",
       " 'tank erupt flame extern fuel tank ignit',\n",
       " 'noon tank lay destroy air strike ground fire two captur abandon flee crew',\n",
       " 'vehicl litter desert pakistani soldier dead',\n",
       " 'pakistani offens crumbl',\n",
       " 'indian reinforc tank th lancer th rajputana rifl arriv led colonel bawa guruvachan singh',\n",
       " 'counteroffens mop straggler end six hour battl',\n",
       " 'longewala stood unbroken',\n",
       " 'victori stagger',\n",
       " 'chandpuri men iaf support repel forc time size',\n",
       " 'pakistan plan seiz indian territori collaps leav leverag negoti',\n",
       " 'eastern campaign continu culmin dhaka fall decemb birth bangladesh',\n",
       " 'chandpuri earn maha vir chakra india second highest gallantri award',\n",
       " 'citat prais dynam leadership except courag dharam vir receiv mention dispatch though famili later felt deserv',\n",
       " 'iaf role emphas book like epic battl longewala air marshal bharat kumar pivot hunter destroy tank',\n",
       " 'yet like major gener atma singh argu iaf air observ post deserv greater credit guid strike',\n",
       " 'battl inspir j p dutta film border sunni deol chandpuri akshay khanna fiction dharam vir depict martyr',\n",
       " 'realiti dharam vir surviv retir colonel',\n",
       " 'film romantic immort longewala though spark debat whether armi iaf deserv credit',\n",
       " 'chandpuri ever humbl su one rupe defend compani honor claim vacat post',\n",
       " 'longewala becam india battl thermopyla stand overwhelm odd celebr british medium visit field marshal r',\n",
       " 'carver',\n",
       " 'longewala war memori museum captur tank stand testament soldier iaf pilot turn desert graveyard pakistan ambit',\n",
       " 'chandpuri battl duti fulfil',\n",
       " 'given task write told carver',\n",
       " 'execut small templ post maintain men despit shell symbol uniti',\n",
       " 'miracul power chandpuri later said visit year retir brigadi',\n",
       " 'sand longewala still whisper night courag strategi airpow wrote legend desert',\n",
       " 'word count approxim page doubl space']"
      ]
     },
     "execution_count": 13,
     "metadata": {},
     "output_type": "execute_result"
    }
   ],
   "source": [
    "coupus"
   ]
  },
  {
   "cell_type": "code",
   "execution_count": 14,
   "id": "3dadbdc6",
   "metadata": {},
   "outputs": [
    {
     "name": "stdout",
     "output_type": "stream",
     "text": [
      "[[0 0 0 ... 0 0 0]\n",
      " [0 0 0 ... 0 0 0]\n",
      " [0 0 0 ... 0 0 0]\n",
      " ...\n",
      " [0 0 0 ... 0 1 0]\n",
      " [0 0 0 ... 1 0 0]\n",
      " [0 0 0 ... 0 0 0]]\n"
     ]
    }
   ],
   "source": [
    "from sklearn.feature_extraction.text import CountVectorizer\n",
    "cv=CountVectorizer()\n",
    "x_how=cv.fit_transform(coupus)\n",
    "print(x_how.toarray())"
   ]
  },
  {
   "cell_type": "markdown",
   "id": "2a7085b5",
   "metadata": {},
   "source": [
    "## TF_IDF\n",
    "\n",
    "\n",
    "- TF (Term Frequnecy) = No. of repeation of word in sentenc / No. of words in  sentences\n",
    "- IDF (Inverse Documnet Frequnecy)= log(No. of sentences / No. of sentences with word)\n",
    "- TF_IDF = TF * IDF"
   ]
  },
  {
   "cell_type": "code",
   "execution_count": 17,
   "id": "c169cc69",
   "metadata": {},
   "outputs": [
    {
     "name": "stdout",
     "output_type": "stream",
     "text": [
      "[[0.         0.         0.         ... 0.         0.         0.        ]\n",
      " [0.         0.         0.         ... 0.         0.         0.        ]\n",
      " [0.         0.         0.         ... 0.         0.         0.        ]\n",
      " ...\n",
      " [0.         0.         0.         ... 0.         0.31376825 0.        ]\n",
      " [0.         0.         0.         ... 0.33735011 0.         0.        ]\n",
      " [0.         0.         0.         ... 0.         0.         0.        ]]\n"
     ]
    }
   ],
   "source": [
    "from sklearn.feature_extraction.text import TfidfVectorizer\n",
    "tf_idf=TfidfVectorizer()\n",
    "\n",
    "x_how=tf_idf.fit_transform(coupus)\n",
    "print(x_how.toarray())"
   ]
  },
  {
   "cell_type": "markdown",
   "id": "5c785ed2",
   "metadata": {},
   "source": [
    "# Word To Vector\n",
    "\n",
    "- Word2Vec is a two-layer neural network that processes text.\n",
    "- It takes as its input a large corpus of text and produces a vector space, typically of several hundred dimensions, with each unique word in the corpus being assigned a corresponding vector in the space.\n",
    "- Word vectors are positioned in the vector space such that words that share common contexts in the corpus are located in close proximity to one another in the space.\n"
   ]
  },
  {
   "cell_type": "code",
   "execution_count": null,
   "id": "1d827ea9",
   "metadata": {},
   "outputs": [],
   "source": []
  },
  {
   "cell_type": "code",
   "execution_count": 5,
   "id": "16347df8",
   "metadata": {},
   "outputs": [],
   "source": [
    "# ! pip install transformers"
   ]
  },
  {
   "cell_type": "code",
   "execution_count": 6,
   "id": "2b3d8faa",
   "metadata": {},
   "outputs": [
    {
     "ename": "ImportError",
     "evalue": "\nAutoModelForCausalLM requires the PyTorch library but it was not found in your environment. Checkout the instructions on the\ninstallation page: https://pytorch.org/get-started/locally/ and follow the ones that match your environment.\nPlease note that you may need to restart your runtime after installation.\n",
     "output_type": "error",
     "traceback": [
      "\u001b[1;31m---------------------------------------------------------------------------\u001b[0m",
      "\u001b[1;31mImportError\u001b[0m                               Traceback (most recent call last)",
      "Cell \u001b[1;32mIn[6], line 6\u001b[0m\n\u001b[0;32m      4\u001b[0m model_name \u001b[38;5;241m=\u001b[39m \u001b[38;5;124m\"\u001b[39m\u001b[38;5;124mgpt2\u001b[39m\u001b[38;5;124m\"\u001b[39m  \u001b[38;5;66;03m# You can replace with any other LLM\u001b[39;00m\n\u001b[0;32m      5\u001b[0m tokenizer \u001b[38;5;241m=\u001b[39m AutoTokenizer\u001b[38;5;241m.\u001b[39mfrom_pretrained(model_name)\n\u001b[1;32m----> 6\u001b[0m model \u001b[38;5;241m=\u001b[39m \u001b[43mAutoModelForCausalLM\u001b[49m\u001b[38;5;241;43m.\u001b[39;49m\u001b[43mfrom_pretrained\u001b[49m(model_name)\n\u001b[0;32m      8\u001b[0m \u001b[38;5;28;01mdef\u001b[39;00m\u001b[38;5;250m \u001b[39m\u001b[38;5;21mchunk_text\u001b[39m(text, max_length\u001b[38;5;241m=\u001b[39m\u001b[38;5;241m512\u001b[39m):\n\u001b[0;32m      9\u001b[0m \u001b[38;5;250m    \u001b[39m\u001b[38;5;124;03m\"\"\"Chunk text into smaller pieces.\"\"\"\u001b[39;00m\n",
      "File \u001b[1;32mf:\\Screenig BAtch\\screening_nit\\venv\\lib\\site-packages\\transformers\\utils\\import_utils.py:1840\u001b[0m, in \u001b[0;36mDummyObject.__getattribute__\u001b[1;34m(cls, key)\u001b[0m\n\u001b[0;32m   1838\u001b[0m \u001b[38;5;28;01mif\u001b[39;00m key\u001b[38;5;241m.\u001b[39mstartswith(\u001b[38;5;124m\"\u001b[39m\u001b[38;5;124m_\u001b[39m\u001b[38;5;124m\"\u001b[39m) \u001b[38;5;129;01mand\u001b[39;00m key \u001b[38;5;241m!=\u001b[39m \u001b[38;5;124m\"\u001b[39m\u001b[38;5;124m_from_config\u001b[39m\u001b[38;5;124m\"\u001b[39m:\n\u001b[0;32m   1839\u001b[0m     \u001b[38;5;28;01mreturn\u001b[39;00m \u001b[38;5;28msuper\u001b[39m()\u001b[38;5;241m.\u001b[39m\u001b[38;5;21m__getattribute__\u001b[39m(key)\n\u001b[1;32m-> 1840\u001b[0m \u001b[43mrequires_backends\u001b[49m\u001b[43m(\u001b[49m\u001b[38;5;28;43mcls\u001b[39;49m\u001b[43m,\u001b[49m\u001b[43m \u001b[49m\u001b[38;5;28;43mcls\u001b[39;49m\u001b[38;5;241;43m.\u001b[39;49m\u001b[43m_backends\u001b[49m\u001b[43m)\u001b[49m\n",
      "File \u001b[1;32mf:\\Screenig BAtch\\screening_nit\\venv\\lib\\site-packages\\transformers\\utils\\import_utils.py:1828\u001b[0m, in \u001b[0;36mrequires_backends\u001b[1;34m(obj, backends)\u001b[0m\n\u001b[0;32m   1826\u001b[0m failed \u001b[38;5;241m=\u001b[39m [msg\u001b[38;5;241m.\u001b[39mformat(name) \u001b[38;5;28;01mfor\u001b[39;00m available, msg \u001b[38;5;129;01min\u001b[39;00m checks \u001b[38;5;28;01mif\u001b[39;00m \u001b[38;5;129;01mnot\u001b[39;00m available()]\n\u001b[0;32m   1827\u001b[0m \u001b[38;5;28;01mif\u001b[39;00m failed:\n\u001b[1;32m-> 1828\u001b[0m     \u001b[38;5;28;01mraise\u001b[39;00m \u001b[38;5;167;01mImportError\u001b[39;00m(\u001b[38;5;124m\"\u001b[39m\u001b[38;5;124m\"\u001b[39m\u001b[38;5;241m.\u001b[39mjoin(failed))\n",
      "\u001b[1;31mImportError\u001b[0m: \nAutoModelForCausalLM requires the PyTorch library but it was not found in your environment. Checkout the instructions on the\ninstallation page: https://pytorch.org/get-started/locally/ and follow the ones that match your environment.\nPlease note that you may need to restart your runtime after installation.\n"
     ]
    }
   ],
   "source": [
    "from transformers import AutoTokenizer, AutoModelForCausalLM\n",
    "\n",
    "# Load a pre-trained model and tokenizer\n",
    "model_name = \"gpt2\"  # You can replace with any other LLM\n",
    "tokenizer = AutoTokenizer.from_pretrained(model_name)\n",
    "model = AutoModelForCausalLM.from_pretrained(model_name)\n",
    "\n",
    "def chunk_text(text, max_length=512):\n",
    "    \"\"\"Chunk text into smaller pieces.\"\"\"\n",
    "    tokens = tokenizer.encode(text, return_tensors='pt')[0]\n",
    "    chunks = []\n",
    "   \n",
    "    for i in range(0, len(tokens), max_length):\n",
    "        chunk = tokens[i:i + max_length]\n",
    "        chunks.append(chunk)\n",
    "\n",
    "    return chunks\n",
    "\n",
    "def generate_responses(chunks):\n",
    "    \"\"\"Generate responses for each chunk using the LLM.\"\"\"\n",
    "    responses = []\n",
    "    for chunk in chunks:\n",
    "        input_ids = chunk.unsqueeze(0)  # Add batch dimension\n",
    "        output = model.generate(input_ids, max_length=100)  # Generate response\n",
    "        responses.append(tokenizer.decode(output[0], skip_special_tokens=True))\n",
    "   \n",
    "    return responses\n",
    "\n",
    "# Example long text\n",
    "long_text = \"Your long text goes here. \" * 50  # Repeat to simulate long text\n",
    "\n",
    "# Chunk the text\n",
    "chunks = chunk_text(long_text)\n",
    "\n",
    "# Generate responses for each chunk\n",
    "responses = generate_responses(chunks)\n",
    "\n",
    "# Print the responses\n",
    "for i, response in enumerate(responses):\n",
    "    print(f\"Response for chunk {i+1}:\\n{response}\\n\")"
   ]
  },
  {
   "cell_type": "code",
   "execution_count": null,
   "id": "e9669e4c",
   "metadata": {},
   "outputs": [],
   "source": []
  }
 ],
 "metadata": {
  "kernelspec": {
   "display_name": "Python 3",
   "language": "python",
   "name": "python3"
  },
  "language_info": {
   "codemirror_mode": {
    "name": "ipython",
    "version": 3
   },
   "file_extension": ".py",
   "mimetype": "text/x-python",
   "name": "python",
   "nbconvert_exporter": "python",
   "pygments_lexer": "ipython3",
   "version": "3.10.16"
  }
 },
 "nbformat": 4,
 "nbformat_minor": 5
}
